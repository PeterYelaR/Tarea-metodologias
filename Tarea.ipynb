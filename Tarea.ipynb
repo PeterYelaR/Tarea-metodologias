{
 "cells": [
  {
   "cell_type": "code",
   "execution_count": 60,
   "metadata": {
    "vscode": {
     "languageId": "r"
    }
   },
   "outputs": [
    {
     "data": {
      "text/html": [
       "<table>\n",
       "<thead><tr><th scope=col>gender</th><th scope=col>race.ethnicity</th><th scope=col>parental.level.of.education</th><th scope=col>lunch</th><th scope=col>test.preparation.course</th><th scope=col>math.score</th><th scope=col>reading.score</th><th scope=col>writing.score</th></tr></thead>\n",
       "<tbody>\n",
       "\t<tr><td>female            </td><td>group B           </td><td>bachelor's degree </td><td>standard          </td><td>none              </td><td>72                </td><td>72                </td><td>74                </td></tr>\n",
       "\t<tr><td>female            </td><td>group C           </td><td>some college      </td><td>standard          </td><td>completed         </td><td>69                </td><td>90                </td><td>88                </td></tr>\n",
       "\t<tr><td>female            </td><td>group B           </td><td>master's degree   </td><td>standard          </td><td>none              </td><td>90                </td><td>95                </td><td>93                </td></tr>\n",
       "\t<tr><td>male              </td><td>group A           </td><td>associate's degree</td><td>free/reduced      </td><td>none              </td><td>47                </td><td>57                </td><td>44                </td></tr>\n",
       "\t<tr><td>male              </td><td>group C           </td><td>some college      </td><td>standard          </td><td>none              </td><td>76                </td><td>78                </td><td>75                </td></tr>\n",
       "\t<tr><td>female            </td><td>group B           </td><td>associate's degree</td><td>standard          </td><td>none              </td><td>71                </td><td>83                </td><td>78                </td></tr>\n",
       "</tbody>\n",
       "</table>\n"
      ],
      "text/latex": [
       "\\begin{tabular}{r|llllllll}\n",
       " gender & race.ethnicity & parental.level.of.education & lunch & test.preparation.course & math.score & reading.score & writing.score\\\\\n",
       "\\hline\n",
       "\t female             & group B            & bachelor's degree  & standard           & none               & 72                 & 72                 & 74                \\\\\n",
       "\t female             & group C            & some college       & standard           & completed          & 69                 & 90                 & 88                \\\\\n",
       "\t female             & group B            & master's degree    & standard           & none               & 90                 & 95                 & 93                \\\\\n",
       "\t male               & group A            & associate's degree & free/reduced       & none               & 47                 & 57                 & 44                \\\\\n",
       "\t male               & group C            & some college       & standard           & none               & 76                 & 78                 & 75                \\\\\n",
       "\t female             & group B            & associate's degree & standard           & none               & 71                 & 83                 & 78                \\\\\n",
       "\\end{tabular}\n"
      ],
      "text/markdown": [
       "\n",
       "| gender | race.ethnicity | parental.level.of.education | lunch | test.preparation.course | math.score | reading.score | writing.score |\n",
       "|---|---|---|---|---|---|---|---|\n",
       "| female             | group B            | bachelor's degree  | standard           | none               | 72                 | 72                 | 74                 |\n",
       "| female             | group C            | some college       | standard           | completed          | 69                 | 90                 | 88                 |\n",
       "| female             | group B            | master's degree    | standard           | none               | 90                 | 95                 | 93                 |\n",
       "| male               | group A            | associate's degree | free/reduced       | none               | 47                 | 57                 | 44                 |\n",
       "| male               | group C            | some college       | standard           | none               | 76                 | 78                 | 75                 |\n",
       "| female             | group B            | associate's degree | standard           | none               | 71                 | 83                 | 78                 |\n",
       "\n"
      ],
      "text/plain": [
       "  gender race.ethnicity parental.level.of.education lunch       \n",
       "1 female group B        bachelor's degree           standard    \n",
       "2 female group C        some college                standard    \n",
       "3 female group B        master's degree             standard    \n",
       "4 male   group A        associate's degree          free/reduced\n",
       "5 male   group C        some college                standard    \n",
       "6 female group B        associate's degree          standard    \n",
       "  test.preparation.course math.score reading.score writing.score\n",
       "1 none                    72         72            74           \n",
       "2 completed               69         90            88           \n",
       "3 none                    90         95            93           \n",
       "4 none                    47         57            44           \n",
       "5 none                    76         78            75           \n",
       "6 none                    71         83            78           "
      ]
     },
     "metadata": {},
     "output_type": "display_data"
    },
    {
     "name": "stdout",
     "output_type": "stream",
     "text": [
      "'data.frame':\t1000 obs. of  8 variables:\n",
      " $ gender                     : Factor w/ 2 levels \"female\",\"male\": 1 1 1 2 2 1 1 2 2 1 ...\n",
      " $ race.ethnicity             : Factor w/ 5 levels \"group A\",\"group B\",..: 2 3 2 1 3 2 2 2 4 2 ...\n",
      " $ parental.level.of.education: Factor w/ 6 levels \"associate's degree\",..: 2 5 4 1 5 1 5 5 3 3 ...\n",
      " $ lunch                      : Factor w/ 2 levels \"free/reduced\",..: 2 2 2 1 2 2 2 1 1 1 ...\n",
      " $ test.preparation.course    : Factor w/ 2 levels \"completed\",\"none\": 2 1 2 2 2 2 1 2 1 2 ...\n",
      " $ math.score                 : int  72 69 90 47 76 71 88 40 64 38 ...\n",
      " $ reading.score              : int  72 90 95 57 78 83 95 43 64 60 ...\n",
      " $ writing.score              : int  74 88 93 44 75 78 92 39 67 50 ...\n"
     ]
    }
   ],
   "source": [
    "# Cargar el archivo depresion.csv\n",
    "estudiantes <- read.csv(\"StudentsPerformance.csv\")\n",
    "\n",
    "# Ver las primeras filas\n",
    "head(estudiantes)\n",
    "\n",
    "# Inspeccionar la estructura de los datos\n",
    "str(estudiantes)"
   ]
  },
  {
   "cell_type": "code",
   "execution_count": 61,
   "metadata": {
    "vscode": {
     "languageId": "r"
    }
   },
   "outputs": [
    {
     "name": "stdout",
     "output_type": "stream",
     "text": [
      "Media de calificaciones en matematicas: 66.089 \n",
      "Mediana de calificaciones en matematicas: 66 \n",
      "Moda de calificaciones en matematicas: 65 \n",
      "Desviación estándar de calificaciones en matematicas: 15.16308 \n"
     ]
    }
   ],
   "source": [
    "# Calcular la media\n",
    "media_math <- mean(estudiantes$math.score)\n",
    "\n",
    "# Calcular la mediana\n",
    "mediana_math <- median(estudiantes$math.score)\n",
    "\n",
    "# Calcular la moda(Es necesario instalar la libreria modeest a traves de ananconda navigator)\n",
    "moda_math <- mlv(estudiantes$math.score, method = \"mfv\")\n",
    "\n",
    "# Calcular la desviación estándar\n",
    "desviacion_math <- sd(estudiantes$math.score)\n",
    "\n",
    "# Imprimir los resultados\n",
    "cat(\"Media de calificaciones en matematicas:\", media_math, \"\\n\")\n",
    "cat(\"Mediana de calificaciones en matematicas:\", mediana_math, \"\\n\")\n",
    "cat(\"Moda de calificaciones en matematicas:\", moda_math, \"\\n\")\n",
    "cat(\"Desviación estándar de calificaciones en matematicas:\", desviacion_math, \"\\n\")"
   ]
  },
  {
   "cell_type": "code",
   "execution_count": 57,
   "metadata": {
    "vscode": {
     "languageId": "r"
    }
   },
   "outputs": [
    {
     "name": "stdout",
     "output_type": "stream",
     "text": [
      "Media de calificaciones en lectura: 69.169 \n",
      "Mediana de calificaciones en lectura: 70 \n",
      "Moda de calificaciones en lectura : 72 \n",
      "Desviación estándar de calificaciones en lectura: 14.60019 \n"
     ]
    }
   ],
   "source": [
    "# Calcular la media\n",
    "media_reading <- mean(estudiantes$reading.score)\n",
    "\n",
    "# Calcular la mediana\n",
    "mediana_reading <- median(estudiantes$reading.score)\n",
    "\n",
    "# Calcular la moda(Es necesario instalar la libreria modeest a traves de ananconda navigator)\n",
    "moda_reading <- mlv(estudiantes$reading.score, method = \"mfv\")\n",
    "\n",
    "# Calcular la desviación estándar\n",
    "desviacion_reading <- sd(estudiantes$reading.score)\n",
    "\n",
    "# Imprimir los resultados\n",
    "cat(\"Media de calificaciones en lectura:\", media_reading, \"\\n\")\n",
    "cat(\"Mediana de calificaciones en lectura:\", mediana_reading, \"\\n\")\n",
    "cat(\"Moda de calificaciones en lectura :\", moda_reading, \"\\n\")\n",
    "cat(\"Desviación estándar de calificaciones en lectura:\", desviacion_reading, \"\\n\")"
   ]
  },
  {
   "cell_type": "code",
   "execution_count": 62,
   "metadata": {
    "vscode": {
     "languageId": "r"
    }
   },
   "outputs": [
    {
     "name": "stdout",
     "output_type": "stream",
     "text": [
      "Media de calificaciones en escritura: 68.054 \n",
      "Mediana de calificaciones en escritura: 69 \n",
      "Moda de calificaciones en escritura: 74 \n",
      "Desviación estándar de calificaciones en escritura: 15.19566 \n"
     ]
    }
   ],
   "source": [
    "# Calcular la media\n",
    "media_writing <- mean(estudiantes$writing.score)\n",
    "\n",
    "# Calcular la mediana\n",
    "mediana_writing <- median(estudiantes$writing.score)\n",
    "\n",
    "# Calcular la moda(Es necesario instalar la libreria modeest a traves de ananconda navigator)\n",
    "moda_writing <- mlv(estudiantes$writing.score, method = \"mfv\")\n",
    "\n",
    "# Calcular la desviación estándar\n",
    "desviacion_writing <- sd(estudiantes$writing.score)\n",
    "\n",
    "# Imprimir los resultados\n",
    "cat(\"Media de calificaciones en escritura:\", media_writing, \"\\n\")\n",
    "cat(\"Mediana de calificaciones en escritura:\", mediana_writing, \"\\n\")\n",
    "cat(\"Moda de calificaciones en escritura:\", moda_writing, \"\\n\")\n",
    "cat(\"Desviación estándar de calificaciones en escritura:\", desviacion_writing, \"\\n\")"
   ]
  },
  {
   "cell_type": "code",
   "execution_count": 70,
   "metadata": {
    "vscode": {
     "languageId": "r"
    }
   },
   "outputs": [
    {
     "data": {
      "image/png": "[encoded data removed]",
      "text/plain": [
       "Plot with title \"Histograma de calificaciones en lectura\""
      ]
     },
     "metadata": {
      "image/png": {
       "height": 420,
       "width": 420
      }
     },
     "output_type": "display_data"
    }
   ],
   "source": [
    "hist(estudiantes$reading.score,\n",
    "     main = \"Histograma de calificaciones en lectura\",\n",
    "     xlab = \"Calificaciones\",\n",
    "     ylab = \"Frecuencia\",\n",
    "     col = \"lightblue\",\n",
    "     border = \"black\")"
   ]
  },
  {
   "cell_type": "code",
   "execution_count": 71,
   "metadata": {
    "vscode": {
     "languageId": "r"
    }
   },
   "outputs": [
    {
     "data": {
      "image/png": "[encoded data removed]",
      "text/plain": [
       "Plot with title \"Histograma de calificaciones en escritura\""
      ]
     },
     "metadata": {
      "image/png": {
       "height": 420,
       "width": 420
      }
     },
     "output_type": "display_data"
    }
   ],
   "source": [
    "hist(estudiantes$writing.score,\n",
    "     main = \"Histograma de calificaciones en escritura\",\n",
    "     xlab = \"Calificaciones\",\n",
    "     ylab = \"Frecuencia\",\n",
    "     col = \"lightblue\",\n",
    "     border = \"black\")"
   ]
  },
  {
   "cell_type": "code",
   "execution_count": 79,
   "metadata": {
    "vscode": {
     "languageId": "r"
    }
   },
   "outputs": [
    {
     "data": {
      "image/png": "[encoded data removed]",
      "text/plain": [
       "plot without title"
      ]
     },
     "metadata": {
      "image/png": {
       "height": 420,
       "width": 420
      }
     },
     "output_type": "display_data"
    }
   ],
   "source": [
    "# Gráfico de dispersión con línea de tendencia\n",
    "library(ggplot2)\n",
    "ggplot(estudiantes, aes(x = reading.score, y = writing.score)) +\n",
    "  geom_point(aes(color = gender), size = 2) +  # Puntos coloreados por especie\n",
    "  geom_smooth(method = \"lm\", se = TRUE, color = \"black\") +  # Línea de tendencia\n",
    "  labs(title = \"Gráfico de Dispersión con Línea de Tendencia\",\n",
    "       x = \"Calificaciones en lectura\", y = \"Calificaciones en escritura\") +\n",
    "  theme_minimal()\n"
   ]
  },
  {
   "cell_type": "code",
   "execution_count": 78,
   "metadata": {
    "vscode": {
     "languageId": "r"
    }
   },
   "outputs": [
    {
     "name": "stdout",
     "output_type": "stream",
     "text": [
      "[1] \"La correlación es: 0.955\"\n"
     ]
    }
   ],
   "source": [
    "v1 <- estudiantes$reading.score \n",
    "v2 <- estudiantes$writing.score\n",
    "\n",
    "Corr <- cor(v1,v2)\n",
    "\n",
    "\n",
    "print(paste(\"La correlación es:\", round(Corr, 3)))"
   ]
  }
 ],
 "metadata": {
  "kernelspec": {
   "display_name": "R",
   "language": "R",
   "name": "ir"
  },
  "language_info": {
   "codemirror_mode": "r",
   "file_extension": ".r",
   "mimetype": "text/x-r-source",
   "name": "R",
   "pygments_lexer": "r",
   "version": "3.6.3"
  }
 },
 "nbformat": 4,
 "nbformat_minor": 2
}
